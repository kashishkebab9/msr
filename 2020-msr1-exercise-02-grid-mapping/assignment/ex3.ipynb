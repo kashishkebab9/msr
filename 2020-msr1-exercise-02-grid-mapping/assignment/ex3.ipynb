{
 "cells": [
  {
   "cell_type": "markdown",
   "metadata": {},
   "source": [
    "# Exercise 3\n",
    "\n",
    "## Occupancy grid mapping\n",
    "\n",
    "The aim of this assignment is to implement a 2D occupancy grid mapping algorithm as described in the lecture. We provide data recorded by a robot using a 2D laser scanner in an indoor environment. \n",
    "\n",
    "The raw data is arranged in the following manner:\n",
    "\n",
    "- `poses.data`: contains the **known** robot poses as it moves around the environment. Each line corresponds to the pose of the robot at a time instant\n",
    "\n",
    "- `ranges.data`: contains 2d laser range measurements recorded by the robot. Each line corresponds to the range measurements taken from the corresponding robot poses.\n",
    "\n",
    "---\n",
    "\n",
    "### Log odds to probability\n",
    "\n",
    "The occupancy calculations are usually performed using the log odds. We will need to convert between log odds and probabilities in this exercise. Implement the `logodds2prob` and `prob2logodds` functions. Verify that the conversion functions are correct for some test input. **[2.0]**"
   ]
  },
  {
   "cell_type": "code",
   "execution_count": 3,
   "metadata": {},
   "outputs": [
    {
     "name": "stdout",
     "output_type": "stream",
     "text": [
      "-0.4895482253187058\n",
      "hello\n",
      "0.38\n"
     ]
    }
   ],
   "source": [
    "from importlib import reload\n",
    "import math\n",
    "import ex3\n",
    "reload(ex3)\n",
    "#test - it works\n",
    "prob = .38\n",
    "logodds = ex3.prob2logodds(prob)\n",
    "print (logodds)\n",
    "print(ex3.logodds2prob(logodds))"
   ]
  },
  {
   "cell_type": "markdown",
   "metadata": {},
   "source": [
    "---\n",
    "### Inverse sensor model\n",
    "\n",
    "The occupancy grid mapping relies on as inverse sensor model to update the occupancy of a cell in the grid. For this exercise, we consider a simple sensor model, where the occupancy of cell $m_i$ is $P_{occ}$ if the measurement $z_t$ falls in that cell, otherwise the occupancy is $P_{free}$. \n",
    "\n",
    "However, if the cell $m_i$ is not in the perception field, the occupancy will be $P_{prior}$.\n",
    "\n",
    "Use the  following probabilities in the implementation:\n",
    "$$P_{occ} = 0.9, P_{free} = 0.35, P_{prior} = 0.5 $$\n",
    "\n",
    "Implement the inverse sensor model function and verify that it is correct for some test input. **[2.0]**"
   ]
  },
  {
   "cell_type": "code",
   "execution_count": 23,
   "metadata": {},
   "outputs": [
    {
     "data": {
      "text/plain": [
       "array([[1.  , 1.  , 0.35],\n",
       "       [2.  , 2.  , 0.35],\n",
       "       [3.  , 3.  , 0.35],\n",
       "       [4.  , 4.  , 0.35],\n",
       "       [5.  , 5.  , 0.35],\n",
       "       [6.  , 6.  , 0.35],\n",
       "       [7.  , 7.  , 0.35],\n",
       "       [8.  , 8.  , 0.35],\n",
       "       [9.  , 9.  , 0.9 ]])"
      ]
     },
     "execution_count": 23,
     "metadata": {},
     "output_type": "execute_result"
    }
   ],
   "source": [
    "# Already implemented\n",
    "import ex3\n",
    "from importlib import reload\n",
    "reload(ex3)\n",
    "\n",
    "cell = [1,1]\n",
    "endpoint = [9,9]\n",
    "prob_occ = 0.9\n",
    "prob_free = 0.35\n",
    "\n",
    "ex3.inv_sensor_model(cell, endpoint, prob_occ, prob_free)\n",
    "    \n",
    "\n",
    "    "
   ]
  },
  {
   "cell_type": "markdown",
   "metadata": {},
   "source": [
    "---\n",
    "### Occupancy grid mapping algorithm:\n",
    "\n",
    "Implement the occupancy grid mapping algorithm as described in lecture slides. \n",
    "\n",
    "We provide some functions to make the implemntation easier.\n",
    "\n",
    "- `ranges2cells` converts the raw measurements acquired by the robot (*ranges_raw*) into the correspoding cells of the gridmap.\n",
    "- `poses2cells` converts the raw poses of the robot (*poses_raw*) into the correspoding cells of the gridmap.\n",
    "- `bresenham` returns all the cells along a straigh line between two points in the gridmap.\n",
    "\n",
    "Other parameters you may need in the implemntation are provided below.\n",
    "\n",
    "Implement the `grid_mapping_with_known_poses` functionn and compute the resulting occupancy grid map using all the measurements provided in the data.\n",
    "\n",
    "Plot the final occupancy gridmap using the `plot_gridmap` function. **[6.0]**\n"
   ]
  },
  {
   "cell_type": "code",
   "execution_count": 2,
   "metadata": {},
   "outputs": [
    {
     "ename": "IndexError",
     "evalue": "index 400 is out of bounds for axis 1 with size 400",
     "output_type": "error",
     "traceback": [
      "\u001b[0;31m---------------------------------------------------------------------------\u001b[0m",
      "\u001b[0;31mIndexError\u001b[0m                                Traceback (most recent call last)",
      "Cell \u001b[0;32mIn[2], line 23\u001b[0m\n\u001b[1;32m     20\u001b[0m occ_gridmap \u001b[38;5;241m=\u001b[39m ex3\u001b[38;5;241m.\u001b[39minit_gridmap(map_size, map_res)\u001b[38;5;241m+\u001b[39mprior\n\u001b[1;32m     21\u001b[0m ex3\u001b[38;5;241m.\u001b[39mplot_gridmap(occ_gridmap)\n\u001b[0;32m---> 23\u001b[0m \u001b[43mex3\u001b[49m\u001b[38;5;241;43m.\u001b[39;49m\u001b[43mgrid_mapping_with_known_poses\u001b[49m\u001b[43m(\u001b[49m\u001b[43mranges_raw\u001b[49m\u001b[43m,\u001b[49m\u001b[43m \u001b[49m\u001b[43mposes_raw\u001b[49m\u001b[43m,\u001b[49m\u001b[43m \u001b[49m\u001b[43mocc_gridmap\u001b[49m\u001b[43m,\u001b[49m\u001b[43m \u001b[49m\u001b[43mmap_res\u001b[49m\u001b[43m,\u001b[49m\u001b[43m \u001b[49m\u001b[43mprob_occ\u001b[49m\u001b[43m,\u001b[49m\u001b[43m \u001b[49m\u001b[43mprob_free\u001b[49m\u001b[43m,\u001b[49m\u001b[43m \u001b[49m\u001b[43mprior\u001b[49m\u001b[43m)\u001b[49m\n\u001b[1;32m     24\u001b[0m \u001b[38;5;66;03m#ex3.plot_gridmap(occ_gridmap)\u001b[39;00m\n",
      "File \u001b[0;32m~/projects/msr/2020-msr1-exercise-02-grid-mapping/assignment/ex3.py:99\u001b[0m, in \u001b[0;36mgrid_mapping_with_known_poses\u001b[0;34m(ranges_raw, poses_raw, occ_gridmap, map_res, prob_occ, prob_free, prior)\u001b[0m\n\u001b[1;32m     96\u001b[0m final_sensor_model \u001b[38;5;241m=\u001b[39m np\u001b[38;5;241m.\u001b[39munique(final_sensor_model, axis\u001b[38;5;241m=\u001b[39m\u001b[38;5;241m0\u001b[39m) \n\u001b[1;32m     98\u001b[0m \u001b[38;5;28;01mfor\u001b[39;00m cell_to_update \u001b[38;5;129;01min\u001b[39;00m final_sensor_model:\n\u001b[0;32m---> 99\u001b[0m     occ_gridmap[\u001b[38;5;28mint\u001b[39m(cell_to_update[\u001b[38;5;241m0\u001b[39m]), \u001b[38;5;28mint\u001b[39m(cell_to_update[\u001b[38;5;241m1\u001b[39m])] \u001b[38;5;241m+\u001b[39m\u001b[38;5;241m=\u001b[39m cell_to_update[\u001b[38;5;241m2\u001b[39m]\n\u001b[1;32m    100\u001b[0m plot_gridmap(occ_gridmap)\n",
      "\u001b[0;31mIndexError\u001b[0m: index 400 is out of bounds for axis 1 with size 400"
     ]
    },
    {
     "data": {
      "image/png": "[encoded data removed]",
      "text/plain": [
       "<Figure size 640x480 with 1 Axes>"
      ]
     },
     "metadata": {},
     "output_type": "display_data"
    }
   ],
   "source": [
    "import ex3\n",
    "import numpy as np\n",
    "from importlib import reload\n",
    "reload(ex3)\n",
    "\n",
    "%matplotlib inline\n",
    "\n",
    "map_size = 100\n",
    "map_res = 0.25\n",
    "\n",
    "prior = 0.50\n",
    "prob_occ = 0.90\n",
    "prob_free = 0.35\n",
    "\n",
    "# load data\n",
    "ranges_raw = np.loadtxt(\"ranges.data\", delimiter=',', dtype='float')\n",
    "poses_raw = np.loadtxt(\"poses.data\", delimiter=',', dtype='float')\n",
    "\n",
    "# initialize gridmap\n",
    "occ_gridmap = ex3.init_gridmap(map_size, map_res)+prior\n",
    "ex3.plot_gridmap(occ_gridmap)\n",
    "\n",
    "ex3.grid_mapping_with_known_poses(ranges_raw, poses_raw, occ_gridmap, map_res, prob_occ, prob_free, prior)\n",
    "#ex3.plot_gridmap(occ_gridmap)"
   ]
  },
  {
   "cell_type": "code",
   "execution_count": null,
   "metadata": {},
   "outputs": [],
   "source": [
    "# 0 :  [[1002 1002 1002 1002 1002 1002 1003 1003 1005 1005 1005 1005 1006 1006\n",
    "#   1006 1006 1007 1007 1007 1007 1007 1007 1007 1007 1007 1007 1007 1007\n",
    "#   1008 1008 1008 1008 1008 1008 1007 1007 1008 1008 1015 1015 1016 1016\n",
    "#   1016 1016 1017 1017 1018 1019 1018 1019 1017 1018 1018 1018 1018 1018\n",
    "#   1018 1018 1013 1013 1013 1013 1013 1013 1013 1013 1013 1013 1013 1014\n",
    "#   1008 1008 1008 1008 1014 1014 1014 1014 1014 1015 1015 1015 1015 1015\n",
    "#   1015 1015 1015 1015 1015 1015 1016 1016 1016 1016 1016 1016 1016 1016\n",
    "#   1016 1016 1017 1017 1017 1017 1012 1012 1010 1010 1010 1010 1017 1011\n",
    "#   1018 1018 1018 1018 1019 1019 1012 1012 1019 1019 1011 1020 1010 1010\n",
    "#   1020 1020 1020 1020 1021 1021 1027 1028 1026 1026 1025 1025 1025 1025\n",
    "#   1024 1024 1023 1023 1023 1023 1023 1023 1023 1023 1023 1023 1022 1022\n",
    "#   1022 1022 1021 1021 1021 1021 1021 1021 1018 1018 1017 1017 1017 1017\n",
    "#   1017 1017 1016 1016 1016 1016 1016 1016 1016 1016 1015 1015 1015 1015\n",
    "#   1015 1015 1015 1015 1014 1014 1014 1014 1014 1014 1014 1014 1013 1013\n",
    "#   1013 1013 1013 1013 1013 1013 1012 1012 1012 1012 1012 1012 1012 1012\n",
    "#   1012 1012 1011 1011 1011 1011 1011 1011 1012 1012 1012 1012 1012 1012\n",
    "#   1012 1012 1012 1012 1013 1013 1015 1015 1017 1017 1021 1021 1016 1016\n",
    "#   1016 1016 1016 1015 1015 1015 1015 1015 1015 1015 1028 1028 1027 1027\n",
    "#   1026 1026 1006 1006 1006 1005 1005 1005 1005 1005 1005 1005 1005 1005\n",
    "#   1006 1006 1006 1006 1006 1005 1005 1005 1005 1005 1005 1005 1005 1004\n",
    "#   1004 1004 1004 1004 1004 1004 1004 1003 1003 1003 1003 1003 1003 1003\n",
    "#   1003 1003 1002 1002 1002 1002 1002 1002 1002 1002 1002 1002 1001 1001\n",
    "#   1001 1001 1001 1001 1001 1001 1001 1001 1000 1000 1000 1000 1000 1000]\n",
    "#  [ 994  994  994  994  994  994  994  994  989  989  988  989  988  988\n",
    "#    988  988  987  987  987  988  988  988  988  988  988  988  988  989\n",
    "#    989  989  989  989  989  989  991  990  989  990  982  982  980  981\n",
    "#    981  981  981  981  980  980  981  980  982  982  983  983  983  983\n",
    "#    983  983  989  989  989  989  989  989  990  990  990  990  990  990\n",
    "#    994  994  994  994  991  991  991  991  991  991  991  992  992  992\n",
    "#    992  992  992  992  992  993  993  993  993  993  993  993  993  994\n",
    "#    994  994  994  994  994  994  996  996  997  997  997  997  995  997\n",
    "#    995  996  996  996  996  996  998  998  996  997  998  997  998  999\n",
    "#    997  998  998  998  998  998  998  998  999  999  999  999  999 1000\n",
    "#   1000 1000 1000 1001 1001 1001 1001 1001 1001 1002 1002 1002 1002 1002\n",
    "#   1003 1003 1003 1003 1003 1003 1004 1004 1003 1004 1004 1004 1004 1004\n",
    "#   1004 1004 1004 1004 1005 1005 1005 1005 1005 1005 1005 1005 1005 1006\n",
    "#   1006 1006 1006 1006 1006 1006 1006 1006 1006 1007 1007 1007 1007 1007\n",
    "#   1007 1007 1007 1007 1007 1007 1007 1008 1008 1008 1008 1008 1008 1008\n",
    "#   1008 1008 1008 1008 1008 1009 1009 1009 1010 1010 1010 1010 1010 1011\n",
    "#   1011 1011 1011 1011 1012 1012 1015 1015 1018 1018 1022 1022 1018 1018\n",
    "#   1019 1019 1019 1019 1019 1019 1020 1020 1020 1020 1038 1039 1039 1039\n",
    "#   1038 1039 1009 1009 1009 1009 1009 1009 1009 1009 1009 1009 1010 1010\n",
    "#   1012 1012 1012 1012 1012 1012 1012 1012 1012 1012 1012 1012 1012 1012\n",
    "#   1012 1012 1012 1012 1012 1012 1012 1012 1012 1012 1012 1012 1012 1012\n",
    "#   1012 1012 1012 1012 1012 1012 1012 1012 1012 1012 1012 1012 1012 1012\n",
    "#   1012 1012 1012 1012 1012 1012 1012 1012 1012 1012 1012 1012 1009 1008]]"
   ]
  },
  {
   "cell_type": "markdown",
   "metadata": {},
   "source": []
  }
 ],
 "metadata": {
  "kernelspec": {
   "display_name": "Python 3 (ipykernel)",
   "language": "python",
   "name": "python3"
  },
  "language_info": {
   "codemirror_mode": {
    "name": "ipython",
    "version": 3
   },
   "file_extension": ".py",
   "mimetype": "text/x-python",
   "name": "python",
   "nbconvert_exporter": "python",
   "pygments_lexer": "ipython3",
   "version": "3.8.10"
  }
 },
 "nbformat": 4,
 "nbformat_minor": 4
}
