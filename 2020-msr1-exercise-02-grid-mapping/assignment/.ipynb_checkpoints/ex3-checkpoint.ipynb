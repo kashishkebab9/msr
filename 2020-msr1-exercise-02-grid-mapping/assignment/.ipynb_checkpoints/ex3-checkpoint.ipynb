{
 "cells": [
  {
   "cell_type": "markdown",
   "metadata": {},
   "source": [
    "# Exercise 3\n",
    "\n",
    "## Occupancy grid mapping\n",
    "\n",
    "The aim of this assignment is to implement a 2D occupancy grid mapping algorithm as described in the lecture. We provide data recorded by a robot using a 2D laser scanner in an indoor environment. \n",
    "\n",
    "The raw data is arranged in the following manner:\n",
    "\n",
    "- `poses.data`: contains the **known** robot poses as it moves around the environment. Each line corresponds to the pose of the robot at a time instant\n",
    "\n",
    "- `ranges.data`: contains 2d laser range measurements recorded by the robot. Each line corresponds to the range measurements taken from the corresponding robot poses.\n",
    "\n",
    "---\n",
    "\n",
    "### Log odds to probability\n",
    "\n",
    "The occupancy calculations are usually performed using the log odds. We will need to convert between log odds and probabilities in this exercise. Implement the `logodds2prob` and `prob2logodds` functions. Verify that the conversion functions are correct for some test input. **[2.0]**"
   ]
  },
  {
   "cell_type": "code",
   "execution_count": 3,
   "metadata": {},
   "outputs": [
    {
     "name": "stdout",
     "output_type": "stream",
     "text": [
      "-0.4895482253187058\n",
      "hello\n",
      "0.38\n"
     ]
    }
   ],
   "source": [
    "from importlib import reload\n",
    "import math\n",
    "import ex3\n",
    "reload(ex3)\n",
    "#test - it works\n",
    "prob = .38\n",
    "logodds = ex3.prob2logodds(prob)\n",
    "print (logodds)\n",
    "print(ex3.logodds2prob(logodds))"
   ]
  },
  {
   "cell_type": "markdown",
   "metadata": {},
   "source": [
    "---\n",
    "### Inverse sensor model\n",
    "\n",
    "The occupancy grid mapping relies on as inverse sensor model to update the occupancy of a cell in the grid. For this exercise, we consider a simple sensor model, where the occupancy of cell $m_i$ is $P_{occ}$ if the measurement $z_t$ falls in that cell, otherwise the occupancy is $P_{free}$. \n",
    "\n",
    "However, if the cell $m_i$ is not in the perception field, the occupancy will be $P_{prior}$.\n",
    "\n",
    "Use the  following probabilities in the implementation:\n",
    "$$P_{occ} = 0.9, P_{free} = 0.35, P_{prior} = 0.5 $$\n",
    "\n",
    "Implement the inverse sensor model function and verify that it is correct for some test input. **[2.0]**"
   ]
  },
  {
   "cell_type": "code",
   "execution_count": 23,
   "metadata": {},
   "outputs": [
    {
     "data": {
      "text/plain": [
       "array([[1.  , 1.  , 0.35],\n",
       "       [2.  , 2.  , 0.35],\n",
       "       [3.  , 3.  , 0.35],\n",
       "       [4.  , 4.  , 0.35],\n",
       "       [5.  , 5.  , 0.35],\n",
       "       [6.  , 6.  , 0.35],\n",
       "       [7.  , 7.  , 0.35],\n",
       "       [8.  , 8.  , 0.35],\n",
       "       [9.  , 9.  , 0.9 ]])"
      ]
     },
     "execution_count": 23,
     "metadata": {},
     "output_type": "execute_result"
    }
   ],
   "source": [
    "# Already implemented\n",
    "import ex3\n",
    "from importlib import reload\n",
    "reload(ex3)\n",
    "\n",
    "cell = [1,1]\n",
    "endpoint = [9,9]\n",
    "prob_occ = 0.9\n",
    "prob_free = 0.35\n",
    "\n",
    "ex3.inv_sensor_model(cell, endpoint, prob_occ, prob_free)\n",
    "    \n",
    "\n",
    "    "
   ]
  },
  {
   "cell_type": "markdown",
   "metadata": {},
   "source": [
    "---\n",
    "### Occupancy grid mapping algorithm:\n",
    "\n",
    "Implement the occupancy grid mapping algorithm as described in lecture slides. \n",
    "\n",
    "We provide some functions to make the implemntation easier.\n",
    "\n",
    "- `ranges2cells` converts the raw measurements acquired by the robot (*ranges_raw*) into the correspoding cells of the gridmap.\n",
    "- `poses2cells` converts the raw poses of the robot (*poses_raw*) into the correspoding cells of the gridmap.\n",
    "- `bresenham` returns all the cells along a straigh line between two points in the gridmap.\n",
    "\n",
    "Other parameters you may need in the implemntation are provided below.\n",
    "\n",
    "Implement the `grid_mapping_with_known_poses` functionn and compute the resulting occupancy grid map using all the measurements provided in the data.\n",
    "\n",
    "Plot the final occupancy gridmap using the `plot_gridmap` function. **[6.0]**\n"
   ]
  },
  {
   "cell_type": "code",
   "execution_count": 28,
   "metadata": {},
   "outputs": [
    {
     "name": "stdout",
     "output_type": "stream",
     "text": [
      "[[81.91 81.91 81.91 ...  2.92  2.14  2.12]\n",
      " [ 4.04  4.05  4.05 ...  3.14 81.91 81.91]\n",
      " [ 3.28  3.23  3.24 ...  2.5   2.57  2.58]\n",
      " ...\n",
      " [ 1.32  1.5   1.43 ...  3.08  3.1   3.11]\n",
      " [ 1.37  1.4   1.36 ...  1.88  1.81  1.79]\n",
      " [ 3.97  3.96  3.96 ...  2.15  2.18  2.2 ]]\n",
      "[[ 0.        0.        0.      ]\n",
      " [ 0.319678  0.110037  0.99433 ]\n",
      " [ 0.407364  0.462189  1.923808]\n",
      " ...\n",
      " [-0.952106  0.449386 -0.848141]\n",
      " [-0.678646  0.219951  0.023225]\n",
      " [-0.579904  0.207483  0.733895]]\n"
     ]
    },
    {
     "data": {
      "image/png": "[encoded data removed]",
      "text/plain": [
       "<Figure size 640x480 with 1 Axes>"
      ]
     },
     "metadata": {},
     "output_type": "display_data"
    }
   ],
   "source": [
    "import ex3\n",
    "import numpy as np\n",
    "from importlib import reload\n",
    "reload(ex3)\n",
    "\n",
    "%matplotlib inline\n",
    "\n",
    "map_size = 100\n",
    "map_res = 0.25\n",
    "\n",
    "prior = 0.50\n",
    "prob_occ = 0.90\n",
    "prob_free = 0.35\n",
    "\n",
    "# load data\n",
    "ranges_raw = np.loadtxt(\"ranges.data\", delimiter=',', dtype='float')\n",
    "poses_raw = np.loadtxt(\"poses.data\", delimiter=',', dtype='float')\n",
    "\n",
    "# initialize gridmap\n",
    "occ_gridmap = ex3.init_gridmap(map_size, map_res)+prior\n",
    "ex3.plot_gridmap(occ_gridmap)\n",
    "\n",
    "ex3.grid_mapping_with_known_poses(ranges_raw, poses_raw, occ_gridmap, map_res, prob_occ, prob_free, prior)\n",
    "print(ranges_raw)\n",
    "print(poses_raw)"
   ]
  },
  {
   "cell_type": "markdown",
   "metadata": {},
   "source": []
  }
 ],
 "metadata": {
  "kernelspec": {
   "display_name": "Python 3 (ipykernel)",
   "language": "python",
   "name": "python3"
  },
  "language_info": {
   "codemirror_mode": {
    "name": "ipython",
    "version": 3
   },
   "file_extension": ".py",
   "mimetype": "text/x-python",
   "name": "python",
   "nbconvert_exporter": "python",
   "pygments_lexer": "ipython3",
   "version": "3.10.10"
  }
 },
 "nbformat": 4,
 "nbformat_minor": 4
}
